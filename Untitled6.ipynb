{
  "nbformat": 4,
  "nbformat_minor": 0,
  "metadata": {
    "colab": {
      "provenance": [],
      "authorship_tag": "ABX9TyMtVAY8r3aw0ZY38lsBK0FR",
      "include_colab_link": true
    },
    "kernelspec": {
      "name": "python3",
      "display_name": "Python 3"
    },
    "language_info": {
      "name": "python"
    }
  },
  "cells": [
    {
      "cell_type": "markdown",
      "metadata": {
        "id": "view-in-github",
        "colab_type": "text"
      },
      "source": [
        "<a href=\"https://colab.research.google.com/github/AmitkiGitHUb/Anpc8486/blob/main/Untitled6.ipynb\" target=\"_parent\"><img src=\"https://colab.research.google.com/assets/colab-badge.svg\" alt=\"Open In Colab\"/></a>"
      ]
    },
    {
      "cell_type": "code",
      "execution_count": null,
      "metadata": {
        "id": "MhBpooBrNGpE"
      },
      "outputs": [],
      "source": []
    },
    {
      "cell_type": "code",
      "source": [
        "#57. Write a Python program to remove all occurrences of a specific element from a list.\n",
        "def remove_all_occurrences(lst, element):\n",
        "    return list(filter(lambda x: x != element, lst))\n",
        "\n",
        "# Example list\n",
        "my_list = [1, 2, 3, 4, 2, 5, 2, 6]\n",
        "element_to_remove = 2\n",
        "\n",
        "# Removing a specific element 2\n",
        "result = remove_all_occurrences(my_list, element_to_remove)\n",
        "\n",
        "print(\"Original List:\", my_list)\n",
        "print(f\"List after removing {element_to_remove}:\", result)\n"
      ],
      "metadata": {
        "colab": {
          "base_uri": "https://localhost:8080/"
        },
        "id": "A8JLP6IoNLEV",
        "outputId": "3a339643-f926-4ada-935a-30a92bfb311e"
      },
      "execution_count": 3,
      "outputs": [
        {
          "output_type": "stream",
          "name": "stdout",
          "text": [
            "Original List: [1, 2, 3, 4, 2, 5, 2, 6]\n",
            "List after removing 2: [1, 3, 4, 5, 6]\n"
          ]
        }
      ]
    },
    {
      "cell_type": "code",
      "source": [],
      "metadata": {
        "id": "EqeclEchNovC"
      },
      "execution_count": null,
      "outputs": []
    },
    {
      "cell_type": "markdown",
      "source": [],
      "metadata": {
        "id": "5CU_bY_DNHje"
      }
    }
  ]
}